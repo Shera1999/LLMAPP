{
 "cells": [
  {
   "cell_type": "code",
   "execution_count": 1,
   "metadata": {},
   "outputs": [
    {
     "name": "stdout",
     "output_type": "stream",
     "text": [
      "PyTorch Version: 2.5.1+cu118\n",
      "CUDA Available: True\n",
      "CUDA Version: 11.8\n",
      "GPU Device: NVIDIA A100-SXM4-40GB\n",
      "Tensor successfully moved to GPU: tensor([[0.1958, 0.1364, 0.6480],\n",
      "        [0.9315, 0.4616, 0.3322],\n",
      "        [0.2769, 0.9686, 0.6867]], device='cuda:0')\n"
     ]
    }
   ],
   "source": [
    "import torch\n",
    "\n",
    "# Check CUDA status\n",
    "print(\"PyTorch Version:\", torch.__version__)\n",
    "print(\"CUDA Available:\", torch.cuda.is_available())\n",
    "print(\"CUDA Version:\", torch.version.cuda)\n",
    "print(\"GPU Device:\", torch.cuda.get_device_name(0) if torch.cuda.is_available() else \"None\")\n",
    "\n",
    "# Test tensor operation on GPU\n",
    "try:\n",
    "    x = torch.rand(3, 3).to(\"cuda\")\n",
    "    print(\"Tensor successfully moved to GPU:\", x)\n",
    "except Exception as e:\n",
    "    print(\"CUDA operation failed:\", e)\n"
   ]
  }
 ],
 "metadata": {
  "kernelspec": {
   "display_name": "Python 3.12 (GalaxyZooNNCLR)",
   "language": "python",
   "name": "galaxyzoonnclr"
  },
  "language_info": {
   "codemirror_mode": {
    "name": "ipython",
    "version": 3
   },
   "file_extension": ".py",
   "mimetype": "text/x-python",
   "name": "python",
   "nbconvert_exporter": "python",
   "pygments_lexer": "ipython3",
   "version": "3.12.0"
  }
 },
 "nbformat": 4,
 "nbformat_minor": 2
}
